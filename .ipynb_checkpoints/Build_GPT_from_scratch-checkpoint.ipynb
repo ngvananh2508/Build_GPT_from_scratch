{
 "cells": [
  {
   "cell_type": "code",
   "execution_count": 1,
   "id": "a92cbf79",
   "metadata": {},
   "outputs": [],
   "source": [
    "# read the data file\n",
    "with open('input.txt', 'r', encoding='utf-8') as f:\n",
    "    text = f.read()"
   ]
  },
  {
   "cell_type": "code",
   "execution_count": 4,
   "id": "17af6d5f",
   "metadata": {},
   "outputs": [
    {
     "name": "stdout",
     "output_type": "stream",
     "text": [
      "First Citizen:\n",
      "Before we proceed any further, hear me speak.\n",
      "\n",
      "All:\n",
      "Speak, speak.\n",
      "\n",
      "First Citizen:\n",
      "You\n"
     ]
    }
   ],
   "source": [
    "print(text[:100])"
   ]
  },
  {
   "cell_type": "code",
   "execution_count": 5,
   "id": "8cccbd2d",
   "metadata": {},
   "outputs": [
    {
     "data": {
      "text/plain": [
       "'First Citizen:\\nBefore we proceed any further, hear me speak.\\n\\nAll:\\nSpeak, speak.\\n\\nFirst Citizen:\\nYou'"
      ]
     },
     "execution_count": 5,
     "metadata": {},
     "output_type": "execute_result"
    }
   ],
   "source": [
    "text[:100]"
   ]
  },
  {
   "cell_type": "code",
   "execution_count": 6,
   "id": "cc7e1bd8",
   "metadata": {},
   "outputs": [
    {
     "name": "stdout",
     "output_type": "stream",
     "text": [
      "\n",
      " !$&',-.3:;?ABCDEFGHIJKLMNOPQRSTUVWXYZabcdefghijklmnopqrstuvwxyz\n",
      "65\n"
     ]
    }
   ],
   "source": [
    "chars = sorted(list(set(text)))\n",
    "vocab_size = len(chars)\n",
    "print(''.join(chars))\n",
    "print(vocab_size)"
   ]
  },
  {
   "cell_type": "code",
   "execution_count": 7,
   "id": "37ab0892",
   "metadata": {},
   "outputs": [
    {
     "name": "stdout",
     "output_type": "stream",
     "text": [
      "[46, 47, 47, 1, 58, 46, 43, 56, 43]\n",
      "['hii there']\n"
     ]
    }
   ],
   "source": [
    "stoi = {ch:i for i, ch in enumerate(chars)}\n",
    "itos = {i:ch for i, ch in enumerate(chars)}\n",
    "encode = lambda s: [stoi[ch] for ch in s]\n",
    "decode = lambda l: [''.join([itos[idx] for idx in l])]\n",
    "\n",
    "print(encode('hii there'))\n",
    "print(decode(encode('hii there')))"
   ]
  },
  {
   "cell_type": "code",
   "execution_count": 10,
   "id": "97112190",
   "metadata": {},
   "outputs": [
    {
     "name": "stdout",
     "output_type": "stream",
     "text": [
      "torch.Size([1115394]) torch.int64\n",
      "tensor([18, 47, 56, 57, 58,  1, 15, 47, 58, 47, 64, 43, 52, 10,  0, 14, 43, 44,\n",
      "        53, 56, 43,  1, 61, 43,  1, 54, 56, 53, 41, 43, 43, 42,  1, 39, 52, 63,\n",
      "         1, 44, 59, 56, 58, 46, 43, 56,  6,  1, 46, 43, 39, 56,  1, 51, 43,  1,\n",
      "        57, 54, 43, 39, 49,  8,  0,  0, 13, 50, 50, 10,  0, 31, 54, 43, 39, 49,\n",
      "         6,  1, 57, 54, 43, 39, 49,  8,  0,  0, 18, 47, 56, 57, 58,  1, 15, 47,\n",
      "        58, 47, 64, 43, 52, 10,  0, 37, 53, 59])\n"
     ]
    }
   ],
   "source": [
    "import torch\n",
    "data = torch.tensor(encode(text), dtype=torch.long)\n",
    "print(data.shape, data.dtype)\n",
    "print(data[:100])"
   ]
  },
  {
   "cell_type": "code",
   "execution_count": 11,
   "id": "39cadff7",
   "metadata": {},
   "outputs": [],
   "source": [
    "n = int(0.9*len(data))\n",
    "train_data = data[:n]\n",
    "val_data = data[n:]"
   ]
  },
  {
   "cell_type": "code",
   "execution_count": 12,
   "id": "c5bf29bb",
   "metadata": {},
   "outputs": [
    {
     "name": "stdout",
     "output_type": "stream",
     "text": [
      "when input is tensor([18]) the target: 47\n",
      "when input is tensor([18, 47]) the target: 56\n",
      "when input is tensor([18, 47, 56]) the target: 57\n",
      "when input is tensor([18, 47, 56, 57]) the target: 58\n",
      "when input is tensor([18, 47, 56, 57, 58]) the target: 1\n",
      "when input is tensor([18, 47, 56, 57, 58,  1]) the target: 15\n",
      "when input is tensor([18, 47, 56, 57, 58,  1, 15]) the target: 47\n",
      "when input is tensor([18, 47, 56, 57, 58,  1, 15, 47]) the target: 58\n"
     ]
    }
   ],
   "source": [
    "block_size = 8\n",
    "x = train_data[:block_size]\n",
    "y = train_data[1:block_size+1]\n",
    "for t in range(block_size):\n",
    "    context = x[:t+1]\n",
    "    target = y[t]\n",
    "    print(f\"when input is {context} the target: {target}\")\n",
    "\n"
   ]
  },
  {
   "cell_type": "code",
   "execution_count": 16,
   "id": "0ce2797d",
   "metadata": {},
   "outputs": [
    {
     "name": "stdout",
     "output_type": "stream",
     "text": [
      "input:\n",
      "torch.Size([4, 8])\n",
      "tensor([[56, 39, 63,  1, 63, 53, 59,  6],\n",
      "        [41, 43,  2,  0, 15, 53, 59, 50],\n",
      "        [ 1, 46, 43, 56,  1, 46, 59, 57],\n",
      "        [53, 59, 56,  1, 45, 56, 39, 41]])\n",
      "target:\n",
      "torch.Size([4, 8])\n",
      "tensor([[39, 63,  1, 63, 53, 59,  6,  1],\n",
      "        [43,  2,  0, 15, 53, 59, 50, 42],\n",
      "        [46, 43, 56,  1, 46, 59, 57, 40],\n",
      "        [59, 56,  1, 45, 56, 39, 41, 43]])\n",
      "-----\n",
      "When input is [56], the target: 39\n",
      "When input is [56, 39], the target: 63\n",
      "When input is [56, 39, 63], the target: 1\n",
      "When input is [56, 39, 63, 1], the target: 63\n",
      "When input is [56, 39, 63, 1, 63], the target: 53\n",
      "When input is [56, 39, 63, 1, 63, 53], the target: 59\n",
      "When input is [56, 39, 63, 1, 63, 53, 59], the target: 6\n",
      "When input is [56, 39, 63, 1, 63, 53, 59, 6], the target: 1\n",
      "When input is [41], the target: 43\n",
      "When input is [41, 43], the target: 2\n",
      "When input is [41, 43, 2], the target: 0\n",
      "When input is [41, 43, 2, 0], the target: 15\n",
      "When input is [41, 43, 2, 0, 15], the target: 53\n",
      "When input is [41, 43, 2, 0, 15, 53], the target: 59\n",
      "When input is [41, 43, 2, 0, 15, 53, 59], the target: 50\n",
      "When input is [41, 43, 2, 0, 15, 53, 59, 50], the target: 42\n",
      "When input is [1], the target: 46\n",
      "When input is [1, 46], the target: 43\n",
      "When input is [1, 46, 43], the target: 56\n",
      "When input is [1, 46, 43, 56], the target: 1\n",
      "When input is [1, 46, 43, 56, 1], the target: 46\n",
      "When input is [1, 46, 43, 56, 1, 46], the target: 59\n",
      "When input is [1, 46, 43, 56, 1, 46, 59], the target: 57\n",
      "When input is [1, 46, 43, 56, 1, 46, 59, 57], the target: 40\n",
      "When input is [53], the target: 59\n",
      "When input is [53, 59], the target: 56\n",
      "When input is [53, 59, 56], the target: 1\n",
      "When input is [53, 59, 56, 1], the target: 45\n",
      "When input is [53, 59, 56, 1, 45], the target: 56\n",
      "When input is [53, 59, 56, 1, 45, 56], the target: 39\n",
      "When input is [53, 59, 56, 1, 45, 56, 39], the target: 41\n",
      "When input is [53, 59, 56, 1, 45, 56, 39, 41], the target: 43\n"
     ]
    }
   ],
   "source": [
    "batch_size = 4 # number of independent sequences will be processed in parallel\n",
    "block_size = 8 # Maximum context length for prediction\n",
    "\n",
    "def get_batch(split):\n",
    "    # generate a small batch of data of inputs x and targets y\n",
    "    data = train_data if split == 'train' else val_data\n",
    "    ix = torch.randint(len(data) - block_size, (batch_size, ))\n",
    "    x = torch.stack([data[i:i+block_size] for i in ix])\n",
    "    y = torch.stack([data[i+1:block_size+i+1] for i in ix])\n",
    "    return x, y\n",
    "\n",
    "xb, yb = get_batch('train')\n",
    "\n",
    "print('input:')\n",
    "print(xb.shape)\n",
    "print(xb)\n",
    "print('target:')\n",
    "print(yb.shape)\n",
    "print(yb)\n",
    "\n",
    "print('-----')\n",
    "\n",
    "for b in range(batch_size):\n",
    "    for t in range(block_size):\n",
    "        context = xb[b, :t+1]\n",
    "        target = yb[b, t]\n",
    "        print(f\"When input is {context.tolist()}, the target: {target}\")\n",
    "\n"
   ]
  },
  {
   "cell_type": "code",
   "execution_count": null,
   "id": "f16661c4",
   "metadata": {},
   "outputs": [],
   "source": [
    "import torch\n",
    "import torch.nn as nn \n",
    "from torch.nn import functional as F\n",
    "\n",
    "class BigramLanguageMode(nn.Module):\n",
    "    def __init__(self, vocab_size):\n",
    "        super().__init__()\n",
    "        self.token_embedding_table = nn.Embedding(vocab_size, vocab_size)\n",
    "    \n",
    "    def forward(self, idx, targets):\n",
    "        # idx and targets are both (B, T) tensors\n",
    "        B, T, C = logits.shape\n",
    "        logits = logits.view(B*T, C)\n",
    "        targets = targets.view(B*T)\n",
    "        logits = self.token_embedding_table(idx)\n",
    "        loss = F.cross_entropy(logits, targets)\n",
    "\n",
    "        return logits, loss\n",
    "\n"
   ]
  }
 ],
 "metadata": {
  "kernelspec": {
   "display_name": "mit_dl",
   "language": "python",
   "name": "python3"
  },
  "language_info": {
   "codemirror_mode": {
    "name": "ipython",
    "version": 3
   },
   "file_extension": ".py",
   "mimetype": "text/x-python",
   "name": "python",
   "nbconvert_exporter": "python",
   "pygments_lexer": "ipython3",
   "version": "3.11.11"
  }
 },
 "nbformat": 4,
 "nbformat_minor": 5
}
