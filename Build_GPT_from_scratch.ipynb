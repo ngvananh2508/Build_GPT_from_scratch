{
 "cells": [
  {
   "cell_type": "code",
   "execution_count": 1,
   "id": "a92cbf79",
   "metadata": {},
   "outputs": [],
   "source": [
    "# read the data file\n",
    "with open('input.txt', 'r', encoding='utf-8') as f:\n",
    "    text = f.read()"
   ]
  },
  {
   "cell_type": "code",
   "execution_count": 2,
   "id": "17af6d5f",
   "metadata": {},
   "outputs": [
    {
     "name": "stdout",
     "output_type": "stream",
     "text": [
      "First Citizen:\n",
      "Before we proceed any further, hear me speak.\n",
      "\n",
      "All:\n",
      "Speak, speak.\n",
      "\n",
      "First Citizen:\n",
      "You\n"
     ]
    }
   ],
   "source": [
    "print(text[:100])"
   ]
  },
  {
   "cell_type": "code",
   "execution_count": 3,
   "id": "8cccbd2d",
   "metadata": {},
   "outputs": [
    {
     "data": {
      "text/plain": [
       "'First Citizen:\\nBefore we proceed any further, hear me speak.\\n\\nAll:\\nSpeak, speak.\\n\\nFirst Citizen:\\nYou'"
      ]
     },
     "execution_count": 3,
     "metadata": {},
     "output_type": "execute_result"
    }
   ],
   "source": [
    "text[:100]"
   ]
  },
  {
   "cell_type": "code",
   "execution_count": 2,
   "id": "cc7e1bd8",
   "metadata": {},
   "outputs": [
    {
     "name": "stdout",
     "output_type": "stream",
     "text": [
      "\n",
      " !$&',-.3:;?ABCDEFGHIJKLMNOPQRSTUVWXYZabcdefghijklmnopqrstuvwxyz\n",
      "65\n"
     ]
    }
   ],
   "source": [
    "chars = sorted(list(set(text)))\n",
    "vocab_size = len(chars)\n",
    "print(''.join(chars))\n",
    "print(vocab_size)"
   ]
  },
  {
   "cell_type": "code",
   "execution_count": 3,
   "id": "37ab0892",
   "metadata": {},
   "outputs": [
    {
     "name": "stdout",
     "output_type": "stream",
     "text": [
      "[46, 47, 47, 1, 58, 46, 43, 56, 43, 0, 53]\n",
      "hii there\n",
      "o\n"
     ]
    }
   ],
   "source": [
    "stoi = {ch:i for i, ch in enumerate(chars)}\n",
    "itos = {i:ch for i, ch in enumerate(chars)}\n",
    "encode = lambda s: [stoi[ch] for ch in s]\n",
    "decode = lambda l: ''.join([itos[idx] for idx in l])\n",
    "\n",
    "print(encode('hii there\\no'))\n",
    "print(decode(encode('hii there\\no')))"
   ]
  },
  {
   "cell_type": "code",
   "execution_count": 4,
   "id": "97112190",
   "metadata": {},
   "outputs": [
    {
     "name": "stdout",
     "output_type": "stream",
     "text": [
      "torch.Size([1115394]) torch.int64\n",
      "tensor([18, 47, 56, 57, 58,  1, 15, 47, 58, 47, 64, 43, 52, 10,  0, 14, 43, 44,\n",
      "        53, 56, 43,  1, 61, 43,  1, 54, 56, 53, 41, 43, 43, 42,  1, 39, 52, 63,\n",
      "         1, 44, 59, 56, 58, 46, 43, 56,  6,  1, 46, 43, 39, 56,  1, 51, 43,  1,\n",
      "        57, 54, 43, 39, 49,  8,  0,  0, 13, 50, 50, 10,  0, 31, 54, 43, 39, 49,\n",
      "         6,  1, 57, 54, 43, 39, 49,  8,  0,  0, 18, 47, 56, 57, 58,  1, 15, 47,\n",
      "        58, 47, 64, 43, 52, 10,  0, 37, 53, 59])\n"
     ]
    }
   ],
   "source": [
    "import torch\n",
    "data = torch.tensor(encode(text), dtype=torch.long)\n",
    "print(data.shape, data.dtype)\n",
    "print(data[:100])"
   ]
  },
  {
   "cell_type": "code",
   "execution_count": 5,
   "id": "39cadff7",
   "metadata": {},
   "outputs": [],
   "source": [
    "n = int(0.9*len(data))\n",
    "train_data = data[:n]\n",
    "val_data = data[n:]"
   ]
  },
  {
   "cell_type": "code",
   "execution_count": 6,
   "id": "c5bf29bb",
   "metadata": {},
   "outputs": [
    {
     "name": "stdout",
     "output_type": "stream",
     "text": [
      "when input is tensor([18]) the target: 47\n",
      "when input is tensor([18, 47]) the target: 56\n",
      "when input is tensor([18, 47, 56]) the target: 57\n",
      "when input is tensor([18, 47, 56, 57]) the target: 58\n",
      "when input is tensor([18, 47, 56, 57, 58]) the target: 1\n",
      "when input is tensor([18, 47, 56, 57, 58,  1]) the target: 15\n",
      "when input is tensor([18, 47, 56, 57, 58,  1, 15]) the target: 47\n",
      "when input is tensor([18, 47, 56, 57, 58,  1, 15, 47]) the target: 58\n"
     ]
    }
   ],
   "source": [
    "block_size = 8\n",
    "x = train_data[:block_size]\n",
    "y = train_data[1:block_size+1]\n",
    "for t in range(block_size):\n",
    "    context = x[:t+1]\n",
    "    target = y[t]\n",
    "    print(f\"when input is {context} the target: {target}\")\n",
    "\n"
   ]
  },
  {
   "cell_type": "code",
   "execution_count": 7,
   "id": "0ce2797d",
   "metadata": {},
   "outputs": [
    {
     "name": "stdout",
     "output_type": "stream",
     "text": [
      "input:\n",
      "torch.Size([4, 8])\n",
      "tensor([[ 6,  1, 51, 63,  1, 50, 53, 56],\n",
      "        [46, 47, 57,  1, 50, 47, 49, 47],\n",
      "        [21,  1, 46, 39, 60, 43,  1, 57],\n",
      "        [42,  1, 52, 53, 58,  1, 47, 52]])\n",
      "target:\n",
      "torch.Size([4, 8])\n",
      "tensor([[ 1, 51, 63,  1, 50, 53, 56, 42],\n",
      "        [47, 57,  1, 50, 47, 49, 47, 52],\n",
      "        [ 1, 46, 39, 60, 43,  1, 57, 39],\n",
      "        [ 1, 52, 53, 58,  1, 47, 52,  1]])\n",
      "-----\n",
      "When input is [6], the target: 1\n",
      "When input is [6, 1], the target: 51\n",
      "When input is [6, 1, 51], the target: 63\n",
      "When input is [6, 1, 51, 63], the target: 1\n",
      "When input is [6, 1, 51, 63, 1], the target: 50\n",
      "When input is [6, 1, 51, 63, 1, 50], the target: 53\n",
      "When input is [6, 1, 51, 63, 1, 50, 53], the target: 56\n",
      "When input is [6, 1, 51, 63, 1, 50, 53, 56], the target: 42\n",
      "When input is [46], the target: 47\n",
      "When input is [46, 47], the target: 57\n",
      "When input is [46, 47, 57], the target: 1\n",
      "When input is [46, 47, 57, 1], the target: 50\n",
      "When input is [46, 47, 57, 1, 50], the target: 47\n",
      "When input is [46, 47, 57, 1, 50, 47], the target: 49\n",
      "When input is [46, 47, 57, 1, 50, 47, 49], the target: 47\n",
      "When input is [46, 47, 57, 1, 50, 47, 49, 47], the target: 52\n",
      "When input is [21], the target: 1\n",
      "When input is [21, 1], the target: 46\n",
      "When input is [21, 1, 46], the target: 39\n",
      "When input is [21, 1, 46, 39], the target: 60\n",
      "When input is [21, 1, 46, 39, 60], the target: 43\n",
      "When input is [21, 1, 46, 39, 60, 43], the target: 1\n",
      "When input is [21, 1, 46, 39, 60, 43, 1], the target: 57\n",
      "When input is [21, 1, 46, 39, 60, 43, 1, 57], the target: 39\n",
      "When input is [42], the target: 1\n",
      "When input is [42, 1], the target: 52\n",
      "When input is [42, 1, 52], the target: 53\n",
      "When input is [42, 1, 52, 53], the target: 58\n",
      "When input is [42, 1, 52, 53, 58], the target: 1\n",
      "When input is [42, 1, 52, 53, 58, 1], the target: 47\n",
      "When input is [42, 1, 52, 53, 58, 1, 47], the target: 52\n",
      "When input is [42, 1, 52, 53, 58, 1, 47, 52], the target: 1\n"
     ]
    }
   ],
   "source": [
    "batch_size = 4 # number of independent sequences will be processed in parallel\n",
    "block_size = 8 # Maximum context length for prediction\n",
    "\n",
    "def get_batch(split):\n",
    "    # generate a small batch of data of inputs x and targets y\n",
    "    data = train_data if split == 'train' else val_data\n",
    "    ix = torch.randint(len(data) - block_size, (batch_size, ))\n",
    "    x = torch.stack([data[i:i+block_size] for i in ix])\n",
    "    y = torch.stack([data[i+1:block_size+i+1] for i in ix])\n",
    "    return x, y\n",
    "\n",
    "xb, yb = get_batch('train')\n",
    "\n",
    "print('input:')\n",
    "print(xb.shape)\n",
    "print(xb)\n",
    "print('target:')\n",
    "print(yb.shape)\n",
    "print(yb)\n",
    "\n",
    "print('-----')\n",
    "\n",
    "for b in range(batch_size):\n",
    "    for t in range(block_size):\n",
    "        context = xb[b, :t+1]\n",
    "        target = yb[b, t]\n",
    "        print(f\"When input is {context.tolist()}, the target: {target}\")\n",
    "\n"
   ]
  },
  {
   "cell_type": "code",
   "execution_count": 8,
   "id": "f16661c4",
   "metadata": {},
   "outputs": [
    {
     "name": "stdout",
     "output_type": "stream",
     "text": [
      "torch.Size([32, 65])\n",
      "tensor(4.7314, grad_fn=<NllLossBackward0>)\n",
      "torch.Size([1, 101])\n",
      "\n",
      "q$RtibytM vgIFlLtAXLPJor FsHyHM?LrErf?emF\n",
      "DnQN\n",
      "q3uemeB,Es?KI, nH3I,Ekw-Nfhx&is:$OPUjFYcmfI!Lvbo\n",
      "qIX,\n"
     ]
    }
   ],
   "source": [
    "import torch\n",
    "import torch.nn as nn \n",
    "from torch.nn import functional as F\n",
    "\n",
    "class BigramLanguageMode(nn.Module):\n",
    "    def __init__(self, vocab_size):\n",
    "        super().__init__()\n",
    "        self.token_embedding_table = nn.Embedding(vocab_size, vocab_size)\n",
    "    \n",
    "    def forward(self, idx, targets=None):\n",
    "        # idx and targets are both (B, T) tensors\n",
    "        logits = self.token_embedding_table(idx)\n",
    "        if targets is None:\n",
    "            loss = None\n",
    "        else:\n",
    "            B, T, C = logits.shape\n",
    "            logits = logits.view(B*T, C)\n",
    "            targets = targets.view(B*T)\n",
    "            loss = F.cross_entropy(logits, targets)\n",
    "\n",
    "        return logits, loss\n",
    "    \n",
    "    def generate(self, idx, max_new_tokens):\n",
    "        # idx is (B, T) array of indices in the current context\n",
    "        for _ in range(max_new_tokens):\n",
    "            # get the predictions\n",
    "            logits, loss = self(idx) \n",
    "            # focus only on the last time step\n",
    "            logits = logits[:, -1, :] #(B,C)\n",
    "            # apply softmax to get probabilities\n",
    "            probs = F.softmax(logits, dim = -1)\n",
    "            # sample from the distribution\n",
    "            idx_next = torch.multinomial(probs, num_samples=1) #(B,1)\n",
    "            # append sampled index to the running sequence\n",
    "            idx = torch.cat((idx, idx_next), dim = 1)\n",
    "        return idx\n",
    "\n",
    "m = BigramLanguageMode(vocab_size)\n",
    "logits, loss = m(xb, yb)\n",
    "print(logits.shape)\n",
    "print(loss)\n",
    "print(m.generate(idx=torch.zeros((1,1), dtype=torch.long), max_new_tokens=100).shape)\n",
    "print(decode(m.generate(idx=torch.zeros((1,1), dtype=torch.long), max_new_tokens=100)[0].tolist()))\n"
   ]
  },
  {
   "cell_type": "code",
   "execution_count": 11,
   "id": "80ca071f",
   "metadata": {},
   "outputs": [],
   "source": [
    "# create a PyTorch optimizer\n",
    "optimizer = torch.optim.AdamW(m.parameters(), lr=1e-3)"
   ]
  },
  {
   "cell_type": "code",
   "execution_count": 12,
   "id": "057b5005",
   "metadata": {},
   "outputs": [
    {
     "name": "stderr",
     "output_type": "stream",
     "text": [
      "/home/nguyen-van-anh/anaconda3/envs/mit_dl/lib/python3.11/site-packages/torch/autograd/graph.py:824: UserWarning: CUDA initialization: CUDA unknown error - this may be due to an incorrectly set up environment, e.g. changing env variable CUDA_VISIBLE_DEVICES after program start. Setting the available devices to be zero. (Triggered internally at /pytorch/c10/cuda/CUDAFunctions.cpp:109.)\n",
      "  return Variable._execution_engine.run_backward(  # Calls into the C++ engine to run the backward pass\n"
     ]
    },
    {
     "name": "stdout",
     "output_type": "stream",
     "text": [
      "2.4605743885040283\n"
     ]
    }
   ],
   "source": [
    "batch_size = 32\n",
    "for steps in range(10000):\n",
    "\n",
    "    # sample a batch of data\n",
    "    xb, yb = get_batch('train')\n",
    "\n",
    "    # evaluate the loss\n",
    "    logits, loss = m(xb, yb)\n",
    "    optimizer.zero_grad(set_to_none=True)\n",
    "    loss.backward()\n",
    "    optimizer.step()\n",
    "\n",
    "print(loss.item())"
   ]
  },
  {
   "cell_type": "code",
   "execution_count": 13,
   "id": "1c792b87",
   "metadata": {},
   "outputs": [
    {
     "name": "stdout",
     "output_type": "stream",
     "text": [
      "\n",
      "\n",
      "\n",
      "Marutevespalighat me softhiere!\n",
      "Mysove wig? qThal,\n",
      "'s spal'lon!\n",
      "\n",
      "NG llorincangodathiler ffo dfourintothout d , ereve nd y espaspllas hrindef nd ad t,\n",
      "S:\n",
      "BEN waved Ge tholayorqKE:\n",
      "He,\n",
      "\n",
      "S$jud maved brthache Clixtoling pepueramashe o, houcthitowo mer r ame veanit owph then h ay cothe CLBe oous athigalermarercFI wou ys iot GLje upe keedy, at y t d ssthe,\n",
      "Jad?\n",
      "Foromfif f speth.\n",
      "ARKESends my mys f lanfal wnThomeand l h, ot w usin m w t s hereveak sine.\n",
      "Ho atosal,\n",
      "POfoveger w, she weadare h hare thil\n"
     ]
    }
   ],
   "source": [
    "print(decode(m.generate(idx=torch.zeros((1,1), dtype=torch.long), max_new_tokens=500)[0].tolist()))\n"
   ]
  },
  {
   "cell_type": "code",
   "execution_count": 12,
   "id": "f2d42efa",
   "metadata": {},
   "outputs": [
    {
     "name": "stdout",
     "output_type": "stream",
     "text": [
      "tensor([[1.0000, 0.0000, 0.0000],\n",
      "        [0.5000, 0.5000, 0.0000],\n",
      "        [0.3333, 0.3333, 0.3333]])\n",
      "tensor([[5., 4.],\n",
      "        [6., 9.],\n",
      "        [7., 2.]])\n",
      "tensor([[5.0000, 4.0000],\n",
      "        [5.5000, 6.5000],\n",
      "        [6.0000, 5.0000]])\n"
     ]
    }
   ],
   "source": [
    "# take mean of previous token embedding\n",
    "a = torch.tril(torch.ones(3,3))\n",
    "a = a / torch.sum(a, 1, keepdim=True)\n",
    "b = torch.randint(0, 10, (3,2)).float()\n",
    "c = a @ b # the mean of previous token\n",
    "print(a)\n",
    "print(b)\n",
    "print(c)"
   ]
  },
  {
   "cell_type": "code",
   "execution_count": 13,
   "id": "ef7e8a38",
   "metadata": {},
   "outputs": [],
   "source": [
    "B,T,C = 4,8,2\n",
    "x = torch.randn(B,T,C)\n"
   ]
  },
  {
   "cell_type": "code",
   "execution_count": 14,
   "id": "c6537617",
   "metadata": {},
   "outputs": [
    {
     "name": "stdout",
     "output_type": "stream",
     "text": [
      "tensor([[[ 1.3960e-01, -1.3628e-01],\n",
      "         [-6.8228e-02,  1.7091e-01],\n",
      "         [ 3.8014e-01,  9.3033e-01],\n",
      "         [ 3.6535e-01,  2.8375e-01],\n",
      "         [ 6.1040e-01,  2.9287e-01],\n",
      "         [ 5.0342e-01,  3.2057e-01],\n",
      "         [ 6.1754e-01,  9.7736e-02],\n",
      "         [ 5.0634e-01,  8.7111e-02]],\n",
      "\n",
      "        [[ 3.6752e-01,  1.6582e+00],\n",
      "         [ 6.7089e-01,  8.0709e-01],\n",
      "         [ 5.5537e-01,  4.9290e-01],\n",
      "         [ 5.0720e-01,  3.8282e-01],\n",
      "         [-6.4576e-02,  4.5483e-01],\n",
      "         [-1.3706e-01,  5.2291e-01],\n",
      "         [-2.8387e-06,  2.1628e-01],\n",
      "         [-2.9830e-02,  3.1104e-01]],\n",
      "\n",
      "        [[ 5.0753e-01,  2.7603e-01],\n",
      "         [ 2.5183e-01,  5.7076e-01],\n",
      "         [ 4.4268e-01,  2.6621e-01],\n",
      "         [-6.8262e-02,  6.6389e-01],\n",
      "         [-4.4772e-01,  9.1569e-01],\n",
      "         [-4.9441e-01,  6.1010e-01],\n",
      "         [-5.5093e-01,  2.7498e-01],\n",
      "         [-5.6589e-01, -9.9914e-02]],\n",
      "\n",
      "        [[ 3.9319e-01, -7.9836e-01],\n",
      "         [-3.7638e-01, -1.6857e+00],\n",
      "         [-6.0667e-01, -6.3094e-01],\n",
      "         [-3.6447e-01, -5.0018e-01],\n",
      "         [-6.5223e-01, -3.5190e-01],\n",
      "         [-5.2932e-01, -4.8525e-01],\n",
      "         [-2.5944e-01, -5.8937e-01],\n",
      "         [-2.0808e-01, -4.4457e-01]]])\n"
     ]
    }
   ],
   "source": [
    "wei = torch.tril(torch.ones(T,T))\n",
    "wei = wei / torch.sum(wei, 1, keepdim=True)\n",
    "xbow = wei @ x # (T,T) @ (B,T,C) -> (B,T,T) @ (B,T,C) (broadcasting) = (B,T,C) ((T,T)@(T,C) = (T,C))\n",
    "print(xbow)"
   ]
  },
  {
   "cell_type": "code",
   "execution_count": 16,
   "id": "3257b4f6",
   "metadata": {},
   "outputs": [
    {
     "data": {
      "text/plain": [
       "True"
      ]
     },
     "execution_count": 16,
     "metadata": {},
     "output_type": "execute_result"
    }
   ],
   "source": [
    "# another version of this solution\n",
    "tril = torch.tril(torch.ones((T,T)))\n",
    "wei = torch.zeros((T,T))\n",
    "wei = wei.masked_fill(tril==0, float('-inf'))\n",
    "wei = F.softmax(wei, dim=1)\n",
    "xbow2 = wei@x\n",
    "torch.allclose(xbow, xbow2)\n",
    "\n"
   ]
  },
  {
   "cell_type": "code",
   "execution_count": null,
   "id": "c0c4393c",
   "metadata": {},
   "outputs": [
    {
     "data": {
      "text/plain": [
       "tensor([[0.0382, 0.0000, 0.0000, 0.0000, 0.0000, 0.0000, 0.0000, 0.0000],\n",
       "        [0.3925, 0.2344, 0.0000, 0.0000, 0.0000, 0.0000, 0.0000, 0.0000],\n",
       "        [0.0628, 0.0897, 0.1204, 0.0000, 0.0000, 0.0000, 0.0000, 0.0000],\n",
       "        [0.0861, 0.0320, 0.2115, 0.4392, 0.0000, 0.0000, 0.0000, 0.0000],\n",
       "        [0.1266, 0.5072, 0.1408, 0.0614, 0.6266, 0.0000, 0.0000, 0.0000],\n",
       "        [0.1334, 0.0168, 0.0784, 0.2927, 0.2358, 0.1020, 0.0000, 0.0000],\n",
       "        [0.0730, 0.0386, 0.2934, 0.1615, 0.0814, 0.6276, 0.4576, 0.0000],\n",
       "        [0.0875, 0.0812, 0.1554, 0.0451, 0.0562, 0.2704, 0.5424, 1.0000]],\n",
       "       grad_fn=<SelectBackward0>)"
      ]
     },
     "execution_count": 22,
     "metadata": {},
     "output_type": "execute_result"
    }
   ],
   "source": [
    "# self-masked attention\n",
    "B,T,C = 4,8,32 # Batch, time, channels\n",
    "x = torch.randn((B,T,C))\n",
    "# a single Head performs self-masked attention\n",
    "head_size = 16\n",
    "key = nn.Linear(C, head_size, bias=False)\n",
    "querry = nn.Linear(C, head_size, bias=False)\n",
    "value = nn.Linear(C, head_size, bias=False)\n",
    "k = key(x) # (B,T,head_size)\n",
    "q = querry(x) # (B,T,head_size)\n",
    "wei = q @ k.transpose(-2, -1) # (B,T,head_size) -> (B,head_size,T)\n",
    "\n",
    "tril = torch.tril(torch.ones((T,T)))\n",
    "#wei = torch.zeros((T,T))\n",
    "wei = wei.masked_fill(tril==0, float('-inf'))\n",
    "wei = F.softmax(wei, dim=1)\n",
    "v = value(x)\n",
    "out = wei @ v # (B,T,head_size)\n",
    "\n",
    "wei[0]"
   ]
  },
  {
   "cell_type": "code",
   "execution_count": 24,
   "id": "c7d094ef",
   "metadata": {},
   "outputs": [
    {
     "data": {
      "text/plain": [
       "torch.Size([16, 32])"
      ]
     },
     "execution_count": 24,
     "metadata": {},
     "output_type": "execute_result"
    }
   ],
   "source": [
    "key.weight.shape"
   ]
  },
  {
   "cell_type": "markdown",
   "id": "7575485d",
   "metadata": {},
   "source": [
    "Self atention: keys and values are produced from the same source as queries."
   ]
  },
  {
   "cell_type": "markdown",
   "id": "9df9212e",
   "metadata": {},
   "source": []
  }
 ],
 "metadata": {
  "kernelspec": {
   "display_name": "mit_dl",
   "language": "python",
   "name": "python3"
  },
  "language_info": {
   "codemirror_mode": {
    "name": "ipython",
    "version": 3
   },
   "file_extension": ".py",
   "mimetype": "text/x-python",
   "name": "python",
   "nbconvert_exporter": "python",
   "pygments_lexer": "ipython3",
   "version": "3.11.11"
  }
 },
 "nbformat": 4,
 "nbformat_minor": 5
}
